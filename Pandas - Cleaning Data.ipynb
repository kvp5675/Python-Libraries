{
 "cells": [
  {
   "cell_type": "markdown",
   "id": "dedb7e04",
   "metadata": {},
   "source": [
    "# Data Cleaning\n",
    "Data cleaning means fixing bad data in your data set.\n",
    "\n",
    "Bad data could be:\n",
    "\n",
    "    Empty cells\n",
    "    Data in wrong format\n",
    "    Wrong data\n",
    "    Duplicates\n"
   ]
  },
  {
   "cell_type": "code",
   "execution_count": null,
   "id": "7e7c94b8",
   "metadata": {},
   "outputs": [],
   "source": [
    "import pandas as pd\n",
    "df = pd.read_csv('D:\\Subject Materials\\Python\\Pandas\\data1.csv')\n",
    "#print(df.to_string())\n",
    "print(df)"
   ]
  },
  {
   "cell_type": "markdown",
   "id": "15372aa1",
   "metadata": {},
   "source": [
    "# Empty Cells\n",
    "Empty cells can potentially give you a wrong result when you analyze data."
   ]
  },
  {
   "cell_type": "markdown",
   "id": "367953f9",
   "metadata": {},
   "source": [
    "# Remove Rows\n",
    "One way to deal with empty cells is to remove rows that contain empty cells.\n",
    "\n",
    "This is usually OK, since data sets can be very big, and removing a few rows will not have a big impact on the result.\n",
    "\n",
    "Note: By default, the dropna() method returns a new DataFrame, and will not change the original."
   ]
  },
  {
   "cell_type": "code",
   "execution_count": null,
   "id": "b41cc8dd",
   "metadata": {},
   "outputs": [],
   "source": [
    "df = pd.read_csv('D:\\Subject Materials\\Python\\Pandas\\data1.csv')\n",
    "print(df.info())"
   ]
  },
  {
   "cell_type": "code",
   "execution_count": null,
   "id": "834646ac",
   "metadata": {},
   "outputs": [],
   "source": [
    "df = pd.read_csv('D:\\Subject Materials\\Python\\Pandas\\data1.csv')\n",
    "new_df = df.dropna()  # Returns the Modified Data Frame, but no change in Original Data Frame\n",
    "print(new_df)"
   ]
  },
  {
   "cell_type": "code",
   "execution_count": null,
   "id": "afb2f011",
   "metadata": {},
   "outputs": [],
   "source": [
    "df = pd.read_csv('D:\\Subject Materials\\Python\\Pandas\\data1.csv')\n",
    "df.dropna(inplace = True)  \n",
    "# Don't return any Data Frame, but modify's the Original Data Frame\n",
    "# i.e  it will remove all rows containing NULL values from the original DataFrame.\n",
    "print(df.to_string())"
   ]
  },
  {
   "cell_type": "markdown",
   "id": "1cdcce41",
   "metadata": {},
   "source": [
    "# Replace Empty Values\n",
    "    Another way of dealing with empty cells is to insert a new value instead.\n",
    "    This way you do not have to delete entire rows just because of some empty cells.\n",
    "    The fillna() method allows us to replace empty cells with a value:\n",
    "    For Example : Replace NULL values with the number 0:"
   ]
  },
  {
   "cell_type": "code",
   "execution_count": null,
   "id": "39663d32",
   "metadata": {},
   "outputs": [],
   "source": [
    "df = pd.read_csv('D:\\Subject Materials\\Python\\Pandas\\data1.csv')\n",
    "df.fillna(0, inplace = True)\n",
    "print(df)\n",
    "print(df.info())"
   ]
  },
  {
   "cell_type": "markdown",
   "id": "91b93ddc",
   "metadata": {},
   "source": [
    "# Replace Only For Specified Columns\n",
    "    The example above replaces all empty cells in the whole Data Frame.\n",
    "    To only replace empty values for one column, specify the column name for the DataFrame:"
   ]
  },
  {
   "cell_type": "code",
   "execution_count": null,
   "id": "3f133886",
   "metadata": {},
   "outputs": [],
   "source": [
    "df[\"Calories\"].fillna(130, inplace = True)\n",
    "print(df)"
   ]
  },
  {
   "cell_type": "markdown",
   "id": "5fc5cfaf",
   "metadata": {},
   "source": [
    "# Replace Using Mean, Median, or Mode\n",
    "    Replace Using Mean, Median, or Mode\n",
    "    Pandas uses the mean() median() and mode() methods to calculate the respective values for a specified column:"
   ]
  },
  {
   "cell_type": "code",
   "execution_count": null,
   "id": "663000e7",
   "metadata": {},
   "outputs": [],
   "source": [
    "df = pd.read_csv('D:\\Subject Materials\\Python\\Pandas\\data1.csv')\n",
    "#x = df[\"Calories\"].mean()        # mean\n",
    "#x = df[\"Calories\"].median()      # median\n",
    "x = df[\"Calories\"].mode()[0]      # mode  i.e Mode = the value that appears most frequently.\n",
    "df[\"Calories\"].fillna(x, inplace = True)\n",
    "\n",
    "print(df)"
   ]
  },
  {
   "cell_type": "markdown",
   "id": "a0158a60",
   "metadata": {},
   "source": [
    "# Data of Wrong Format\n",
    "Cells with data of wrong format can make it difficult, or even impossible, to analyze data.\n",
    "\n",
    "To fix it, you have two options: remove the rows, or convert all cells in the columns into the same format."
   ]
  },
  {
   "cell_type": "code",
   "execution_count": null,
   "id": "ea391251",
   "metadata": {},
   "outputs": [],
   "source": [
    "df = pd.read_csv('D:\\Subject Materials\\Python\\Pandas\\data2.csv')\n",
    "print(df)"
   ]
  },
  {
   "cell_type": "code",
   "execution_count": null,
   "id": "da1246b9",
   "metadata": {},
   "outputs": [],
   "source": [
    "import pandas as pd\n",
    "\n",
    "df['Date'] = pd.to_datetime(df['Date'])\n",
    "print(df)"
   ]
  },
  {
   "cell_type": "markdown",
   "id": "606b2c94",
   "metadata": {},
   "source": [
    "NaT (Not a Time)\n",
    "\n",
    "# Removing Rows\n",
    "    The result from the converting in the example above gave us a NaT value, which can be handled as a NULL value, and we can remove the row by using the dropna() method.\n",
    "    \n",
    "    Remove rows with a NULL value in the \"Date\" column:\n",
    "\n"
   ]
  },
  {
   "cell_type": "code",
   "execution_count": null,
   "id": "82926205",
   "metadata": {},
   "outputs": [],
   "source": [
    "df.dropna(subset=['Date'], inplace = True)\n",
    "df"
   ]
  },
  {
   "cell_type": "markdown",
   "id": "d4dae18a",
   "metadata": {},
   "source": [
    "# Pandas - Fixing Wrong Data\n",
    "# Wrong Data\n",
    "    \"Wrong data\" does not have to be \"empty cells\" or \"wrong format\", it can just be wrong, like if someone registered \"199\" instead of \"1.99\".\n",
    "\n",
    "    Sometimes you can spot wrong data by looking at the data set, because you have an expectation of what it should be.\n",
    "\n",
    "    If you take a look at our data set, you can see that in row 7, the duration is 450, but for all the other rows the duration is between 30 and 60.\n",
    "\n",
    "    It doesn't have to be wrong, but taking in consideration that this is the data set of someone's workout sessions, we conclude with the fact that this person did not work out in 450 minutes."
   ]
  },
  {
   "cell_type": "code",
   "execution_count": null,
   "id": "a6b999fd",
   "metadata": {},
   "outputs": [],
   "source": [
    "df.loc[3, 'Duration'] = 45\n",
    "df"
   ]
  },
  {
   "cell_type": "markdown",
   "id": "0f29c5d7",
   "metadata": {},
   "source": [
    "    For small data sets you might be able to replace the wrong data one by one, but not for big data sets.\n",
    "\n",
    "    To replace wrong data for larger data sets you can create some rules, e.g. set some boundaries for legal values, and replace any values that are outside of the boundaries.\n",
    "    \n",
    "# Example\n",
    "    Loop through all values in the \"Duration\" column.\n",
    "\n",
    "    If the value is higher than 120, set it to 120:"
   ]
  },
  {
   "cell_type": "code",
   "execution_count": null,
   "id": "8bce0772",
   "metadata": {},
   "outputs": [],
   "source": [
    "for x in df.index:\n",
    "  if df.loc[x, \"Duration\"] > 45:\n",
    "    df.loc[x, \"Duration\"] = 120\n",
    "    \n",
    "df"
   ]
  },
  {
   "cell_type": "markdown",
   "id": "f8e3dc6b",
   "metadata": {},
   "source": [
    "# Removing Rows\n",
    "    Another way of handling wrong data is to remove the rows that contains wrong data.\n",
    "\n",
    "    This way you do not have to find out what to replace them with, and there is a good chance you do not need them to do your analyses."
   ]
  },
  {
   "cell_type": "code",
   "execution_count": null,
   "id": "3329c08a",
   "metadata": {},
   "outputs": [],
   "source": [
    "for x in df.index:\n",
    "  if df.loc[x, \"Duration\"] > 45:\n",
    "    df.drop(x, inplace = True)\n",
    "    \n",
    "df"
   ]
  },
  {
   "cell_type": "markdown",
   "id": "0073d374",
   "metadata": {},
   "source": [
    "# Pandas - Removing Duplicates\n",
    "# Discovering Duplicates\n",
    "    Duplicate rows are rows that have been registered more than one time.\n",
    "    To discover duplicates, we can use the duplicated() method.\n",
    "    The duplicated() method returns a Boolean values for each row(True/False)\n",
    "    \n",
    "# Removing Duplicates\n",
    "    To remove duplicates, use the drop_duplicates() method."
   ]
  },
  {
   "cell_type": "code",
   "execution_count": null,
   "id": "4271afb2",
   "metadata": {},
   "outputs": [],
   "source": [
    "print(df.duplicated())"
   ]
  },
  {
   "cell_type": "code",
   "execution_count": null,
   "id": "e4688711",
   "metadata": {},
   "outputs": [],
   "source": [
    "df.drop_duplicates(inplace = True)\n",
    "print(df)"
   ]
  }
 ],
 "metadata": {
  "kernelspec": {
   "display_name": "Python 3 (ipykernel)",
   "language": "python",
   "name": "python3"
  },
  "language_info": {
   "codemirror_mode": {
    "name": "ipython",
    "version": 3
   },
   "file_extension": ".py",
   "mimetype": "text/x-python",
   "name": "python",
   "nbconvert_exporter": "python",
   "pygments_lexer": "ipython3",
   "version": "3.9.13"
  }
 },
 "nbformat": 4,
 "nbformat_minor": 5
}
