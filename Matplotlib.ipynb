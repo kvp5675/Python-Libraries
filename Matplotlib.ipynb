{
 "cells": [
  {
   "cell_type": "markdown",
   "id": "de509da7",
   "metadata": {},
   "source": [
    "# What is Matplotlib?\n",
    "    Matplotlib is a low level graph plotting library in python that serves as a visualization utility.\n",
    "    Matplotlib was created by John D. Hunter.\n",
    "    Matplotlib is open source and we can use it freely.\n",
    "    Matplotlib is mostly written in python, a few segments are written in C, Objective-C and Javascript for Platform compatibility."
   ]
  },
  {
   "cell_type": "markdown",
   "id": "6c39a24e",
   "metadata": {},
   "source": [
    "# Installation of Matplotlib\n",
    "If you have Python and PIP already installed on a system, then installation of Matplotlib is very easy.\n",
    "\n",
    "Install it using this command: "
   ]
  },
  {
   "cell_type": "code",
   "execution_count": null,
   "id": "c5c1a6a0",
   "metadata": {},
   "outputs": [],
   "source": [
    "!pip install matplotlib"
   ]
  },
  {
   "cell_type": "code",
   "execution_count": null,
   "id": "4bdb73e8",
   "metadata": {},
   "outputs": [],
   "source": [
    "import matplotlib as mp;  # Import\n",
    "print(mp.__version__)   ## Check Version"
   ]
  },
  {
   "cell_type": "markdown",
   "id": "0bc921dd",
   "metadata": {},
   "source": [
    "# Matplotlib Pyplot\n",
    "\n",
    "Most of the Matplotlib utilities lies under the pyplot submodule, and are usually imported under the plt alias:"
   ]
  },
  {
   "cell_type": "code",
   "execution_count": null,
   "id": "bbce0566",
   "metadata": {},
   "outputs": [],
   "source": [
    "import matplotlib.pyplot as plt    ## importing pyplot\n",
    "import numpy as np\n",
    "\n",
    "xpoints = np.array([0, 6])\n",
    "ypoints = np.array([0, 250])\n",
    "\n",
    "plt.plot(xpoints, ypoints)\n",
    "plt.show()"
   ]
  },
  {
   "cell_type": "markdown",
   "id": "7d13a7b7",
   "metadata": {},
   "source": [
    "# Plotting x and y points\n",
    "    The plot() function is used to draw points (markers) in a diagram.\n",
    "    By default, the plot() function draws a line from point to point.\n",
    "    The function takes parameters for specifying points in the diagram.\n",
    "    Parameter 1 is an array containing the points on the x-axis.\n",
    "    Parameter 2 is an array containing the points on the y-axis.\n",
    "    If we need to plot a line from (1, 3) to (8, 10), we have to pass two arrays [1, 8] and [3, 10] to the plot function."
   ]
  },
  {
   "cell_type": "code",
   "execution_count": null,
   "id": "2e7907f3",
   "metadata": {},
   "outputs": [],
   "source": [
    "xpoints = np.array([1, 8])   # (x1, x2)   -- Horizontal Axis\n",
    "ypoints = np.array([3, 10])  # (y1, y2)   -- Vertical Axis\n",
    "\n",
    "plt.plot(xpoints, ypoints)\n",
    "plt.show()"
   ]
  },
  {
   "cell_type": "code",
   "execution_count": null,
   "id": "6ffdf47f",
   "metadata": {},
   "outputs": [],
   "source": [
    "xpoints = np.array([1, 8])\n",
    "ypoints = np.array([3, 10])\n",
    "\n",
    "plt.plot(xpoints, ypoints, 'o')    # 'o' means rings, no line\n",
    "plt.show()"
   ]
  },
  {
   "cell_type": "code",
   "execution_count": null,
   "id": "c8014eba",
   "metadata": {},
   "outputs": [],
   "source": [
    "# Draw a line in a diagram from position (1, 3) to (2, 8) then to (6, 1) and finally to position (8, 10):\n",
    "xpoints = np.array([1, 2, 6, 8])   # (x1, x2, x3, x4)\n",
    "ypoints = np.array([3, 8, 1, 10])  # (y1, y2, y3, y4)\n",
    "\n",
    "plt.plot(xpoints, ypoints)\n",
    "plt.show()"
   ]
  },
  {
   "cell_type": "markdown",
   "id": "e9f4d988",
   "metadata": {},
   "source": [
    "# Default X-Points\n",
    "    If we do not specify the points in the x-axis, they will get the default values 0, 1, 2, 3,\n",
    "    (etc. depending on the length of the y-points.\n",
    "\n",
    "    So, if we take the same example as above, and leave out the x-points, the diagram will look like this:"
   ]
  },
  {
   "cell_type": "code",
   "execution_count": null,
   "id": "e01b8a59",
   "metadata": {},
   "outputs": [],
   "source": [
    "ypoints = np.array([3, 8, 1, 10, 5, 7])\n",
    "\n",
    "plt.plot(ypoints)     # The x-points in the example above is [0, 1, 2, 3, 4, 5].\n",
    "plt.show()"
   ]
  },
  {
   "cell_type": "markdown",
   "id": "7cfca418",
   "metadata": {},
   "source": [
    "# Matplotlib Markers\n",
    "Markers\n",
    "You can use the keyword argument marker to emphasize each point with a specified marker:"
   ]
  },
  {
   "cell_type": "code",
   "execution_count": null,
   "id": "35833e8c",
   "metadata": {},
   "outputs": [],
   "source": [
    "ypoints = np.array([3, 8, 1, 10])\n",
    "\n",
    "plt.plot(ypoints, marker = '*')\n",
    "plt.show()"
   ]
  },
  {
   "cell_type": "markdown",
   "id": "07f8a719",
   "metadata": {},
   "source": [
    "# Format Strings fmt\n",
    "    You can use also use the shortcut string notation parameter to specify the marker.\n",
    "\n",
    "    This parameter is also called fmt, and is written with this syntax:\n",
    "\n",
    "    marker|line|color"
   ]
  },
  {
   "cell_type": "code",
   "execution_count": null,
   "id": "ee1cbeaf",
   "metadata": {},
   "outputs": [],
   "source": [
    "ypoints = np.array([3, 8, 1, 10])\n",
    "\n",
    "plt.plot(ypoints, 'o--g')  # Colors - r,b,g,c,m,y,w and \n",
    "plt.show()                # Pattern - :,--,-."
   ]
  },
  {
   "cell_type": "code",
   "execution_count": null,
   "id": "91da5a7c",
   "metadata": {},
   "outputs": [],
   "source": [
    "plt.plot(ypoints, marker = 'o', ms = 20, mec = 'r', mfc ='g')   ## Marker Size(ms), Marker Color(mec)Markerface Color(mfc)\n",
    "plt.show()"
   ]
  },
  {
   "cell_type": "markdown",
   "id": "94cfca87",
   "metadata": {},
   "source": [
    "# Matplotlib Line\n",
    "Linestyle\n",
    "You can use the keyword argument linestyle, or shorter ls, to change the style of the plotted line:"
   ]
  },
  {
   "cell_type": "code",
   "execution_count": null,
   "id": "dd495302",
   "metadata": {},
   "outputs": [],
   "source": [
    "ypoints = np.array([3, 8, 1, 10])\n",
    "\n",
    "plt.plot(ypoints, linestyle = 'dotted', color = 'g', linewidth = '10.5')   # linestyle = 'dashed/dotted' or linestyle = ': / --'\n",
    "plt.show()"
   ]
  },
  {
   "cell_type": "code",
   "execution_count": null,
   "id": "5c5b8fae",
   "metadata": {},
   "outputs": [],
   "source": [
    "x1 = np.array([0, 1, 2, 3])    # Mulitple Line\n",
    "y1 = np.array([3, 8, 1, 10])\n",
    "x2 = np.array([0, 1, 2, 3])\n",
    "y2 = np.array([6, 2, 7, 11])\n",
    "\n",
    "plt.plot(x1, y1)\n",
    "plt.plot(x2, y2)\n",
    "plt.show()"
   ]
  },
  {
   "cell_type": "markdown",
   "id": "680e37fb",
   "metadata": {},
   "source": [
    "# Matplotlib Lables\n",
    "Create Labels for a Plot\n",
    "\n",
    "    With Pyplot, you can use the xlabel() and ylabel() functions to set a label for the x- and y-axis."
   ]
  },
  {
   "cell_type": "code",
   "execution_count": null,
   "id": "6920b725",
   "metadata": {},
   "outputs": [],
   "source": [
    "x = np.array([80, 85, 90, 95, 100, 105, 110, 115, 120, 125])\n",
    "y = np.array([240, 250, 260, 270, 280, 290, 300, 310, 320, 330])\n",
    "\n",
    "plt.plot(x, y)\n",
    "\n",
    "font1 = {'family':'serif','color':'blue','size':20}\n",
    "font2 = {'family':'serif','color':'darkred','size':15}\n",
    "\n",
    "plt.title(\"Sports Watch Data\", fontdict = font1)\n",
    "#plt.title(\"Sports Watch Data\", loc = 'right')   # Position the title to the \"left/right\"\n",
    "plt.xlabel(\"Average Pulse\", fontdict = font2)\n",
    "plt.ylabel(\"Calorie Burnage\", fontdict = font2)\n",
    "\n",
    "plt.show();"
   ]
  },
  {
   "cell_type": "markdown",
   "id": "0e3701b1",
   "metadata": {},
   "source": [
    "# Matplotlib Adding Grid Lines\n",
    "Add Grid Lines to a Plot\n",
    "\n",
    "    With Pyplot, you can use the grid() function to add grid lines to the plot."
   ]
  },
  {
   "cell_type": "code",
   "execution_count": null,
   "id": "8d359b1f",
   "metadata": {},
   "outputs": [],
   "source": [
    "x = np.array([80, 85, 90, 95, 100, 105, 110, 115, 120, 125])\n",
    "y = np.array([240, 250, 260, 270, 280, 290, 300, 310, 320, 330])\n",
    "\n",
    "plt.title(\"Sports Watch Data\")\n",
    "plt.xlabel(\"Average Pulse\")\n",
    "plt.ylabel(\"Calorie Burnage\")\n",
    "\n",
    "plt.plot(x, y)\n",
    "\n",
    "plt.grid()    \n",
    "\n",
    "#plt.grid(axis = 'x')  # Only on axis = 'x or y'\n",
    "#plt.grid(color = 'green', linestyle = '--', linewidth = 0.5)   # Set Grid Properties\n",
    "\n",
    "plt.show()"
   ]
  },
  {
   "cell_type": "markdown",
   "id": "b16e2360",
   "metadata": {},
   "source": [
    "# Matplotlib Subplot\n",
    "Display Multiple Plots\n",
    "\n",
    "With the subplot() function you can draw multiple plots in one figure:"
   ]
  },
  {
   "cell_type": "code",
   "execution_count": null,
   "id": "cfb668b1",
   "metadata": {},
   "outputs": [],
   "source": [
    "#plot 1:\n",
    "x = np.array([0, 1, 2, 3])\n",
    "y = np.array([3, 8, 1, 10])\n",
    "\n",
    "plt.subplot(1, 2, 1)    # the figure has 1 row, 2 columns, and this plot is the first plot.\n",
    "plt.title(\"Sales\")      # Sub Title\n",
    "plt.plot(x,y)\n",
    "\n",
    "#plot 2:\n",
    "x = np.array([0, 1, 2, 3])\n",
    "y = np.array([10, 20, 30, 40])\n",
    "\n",
    "plt.subplot(1, 2, 2)    # the figure has 1 row, 2 columns, and this plot is the first plot.\n",
    "plt.title(\"Income\")     # Sub Title\n",
    "plt.plot(x,y)\n",
    "\n",
    "plt.suptitle(\"My Business\")     # Super Title\n",
    "plt.show()"
   ]
  },
  {
   "cell_type": "markdown",
   "id": "6ad0224a",
   "metadata": {},
   "source": [
    "# Matplotlib Scatter\n",
    "Creating Scatter Plots\n",
    "\n",
    "    With Pyplot, you can use the scatter() function to draw a scatter plot.\n",
    "\n",
    "    The scatter() function plots one dot for each observation. It needs two arrays of the same length, one for the values of the x-axis, and one for values on the y-axis:"
   ]
  },
  {
   "cell_type": "code",
   "execution_count": null,
   "id": "9d48d2fa",
   "metadata": {},
   "outputs": [],
   "source": [
    "x = np.array([5,7,8,7,2,17,2,9,4,11,12,9,6])\n",
    "y = np.array([99,86,87,88,111,86,103,87,94,78,77,85,86])\n",
    "\n",
    "plt.scatter(x, y)\n",
    "plt.xlabel(\"Car\")\n",
    "plt.ylabel(\"Speed\")\n",
    "plt.show()"
   ]
  },
  {
   "cell_type": "code",
   "execution_count": null,
   "id": "88fb8fcc",
   "metadata": {},
   "outputs": [],
   "source": [
    "#day one, the age and speed of 13 cars:\n",
    "x = np.array([5,7,8,7,2,17,2,9,4,11,12,9,6])\n",
    "y = np.array([99,86,87,88,111,86,103,87,94,78,77,85,86])\n",
    "plt.scatter(x, y)\n",
    "\n",
    "#day two, the age and speed of 15 cars:\n",
    "x = np.array([2,2,8,1,15,8,12,9,7,3,11,4,7,14,12])\n",
    "y = np.array([100,105,84,105,90,99,90,95,94,100,79,112,91,80,85])\n",
    "plt.scatter(x, y)\n",
    "\n",
    "# Comparision for 2 Days\n",
    "plt.xlabel(\"Car\")\n",
    "plt.ylabel(\"Speed\")\n",
    "# plt.scatter(x, y, color = 'red')   # By default 'blue' and 'Orange'\n",
    "plt.show()"
   ]
  },
  {
   "cell_type": "markdown",
   "id": "eb530dd4",
   "metadata": {},
   "source": [
    "# Matplotlib Bars\n",
    "Creating Bars\n",
    "\n",
    "    With Pyplot, you can use the bar() function to draw bar graphs"
   ]
  },
  {
   "cell_type": "code",
   "execution_count": null,
   "id": "be480812",
   "metadata": {},
   "outputs": [],
   "source": [
    "x = np.array([\"Apple\", \"Orange\", \"Banana\", \"Grapes\"])\n",
    "y = np.array([3, 8, 1, 10])\n",
    "\n",
    "#plt.bar(x,y,width = 0.5)   # Vertical Bars along with width and height(only for Horizontal Bars)\n",
    "plt.barh(x,y, height=0.3, color='green')  # Horizontal Bars, Colors, Width\n",
    "plt.show()"
   ]
  },
  {
   "cell_type": "markdown",
   "id": "166d3310",
   "metadata": {},
   "source": [
    "# Matplotlib Histograms\n",
    "Histogram\n",
    "\n",
    "    A histogram is a graph showing frequency distributions.\n",
    "\n",
    "    It is a graph showing the number of observations within each given interval.\n",
    "\n",
    "    Example: Say you ask for the height of 250 people, you might end up with a histogram like this:"
   ]
  },
  {
   "cell_type": "markdown",
   "id": "f0298ebb",
   "metadata": {},
   "source": [
    "# Create Histogram\n",
    "    In Matplotlib, we use the hist() function to create histograms.\n",
    "\n",
    "    The hist() function will use an array of numbers to create a histogram, the array is sent into the function as an argument.\n",
    "\n",
    "    For simplicity we use NumPy to randomly generate an array with 250 values, where the values will concentrate around 170, and the standard deviation is 10."
   ]
  },
  {
   "cell_type": "code",
   "execution_count": null,
   "id": "6e35f1c3",
   "metadata": {},
   "outputs": [],
   "source": [
    "import numpy as np\n",
    "\n",
    "x = np.random.normal(170, 10, 250)    #(loc=0.0, scale=1.0, size=None)\n",
    "\n",
    "print(x)    \n",
    "\n",
    "#plt.hist(x)\n",
    "#plt.show() "
   ]
  },
  {
   "cell_type": "markdown",
   "id": "b59dee73",
   "metadata": {},
   "source": [
    "# Matplotlib Pie Charts\n",
    "Creating Pie Charts\n",
    "\n",
    "    With Pyplot, you can use the pie() function to draw pie charts:"
   ]
  },
  {
   "cell_type": "code",
   "execution_count": null,
   "id": "6590bc23",
   "metadata": {},
   "outputs": [],
   "source": [
    "y = np.array([35, 25, 25, 15])\n",
    "mylabels = [\"Apples\", \"Bananas\", \"Cherries\", \"Dates\"]\n",
    "\n",
    "#plt.pie(y)\n",
    "#plt.pie(y, labels = mylabels)\n",
    "#plt.pie(y, labels = mylabels, startangle = 90)\n",
    "myexplode = [0.2, 0, 0, 0]\n",
    "mycolors = [\"black\", \"hotpink\", \"b\", \"#4CAF50\"]\n",
    "plt.pie(y, labels = mylabels, explode = myexplode, shadow = True, colors = mycolors)\n",
    "#plt.legend(title = \"Four Fruits:\")\n",
    "plt.show() "
   ]
  }
 ],
 "metadata": {
  "kernelspec": {
   "display_name": "Python 3 (ipykernel)",
   "language": "python",
   "name": "python3"
  },
  "language_info": {
   "codemirror_mode": {
    "name": "ipython",
    "version": 3
   },
   "file_extension": ".py",
   "mimetype": "text/x-python",
   "name": "python",
   "nbconvert_exporter": "python",
   "pygments_lexer": "ipython3",
   "version": "3.9.13"
  }
 },
 "nbformat": 4,
 "nbformat_minor": 5
}
